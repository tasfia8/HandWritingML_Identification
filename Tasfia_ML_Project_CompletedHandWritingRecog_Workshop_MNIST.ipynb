{
  "cells": [
    {
      "cell_type": "markdown",
      "metadata": {
        "id": "_8eV7w0G3sjK"
      },
      "source": [
        "Part 1: Import Tensorflow"
      ]
    },
    {
      "cell_type": "code",
      "execution_count": 1,
      "metadata": {
        "colab": {
          "base_uri": "https://localhost:8080/"
        },
        "id": "ODdwUyVA6bOr",
        "outputId": "acf97d31-c019-4cfa-c2e4-d0d8bf83c168"
      },
      "outputs": [
        {
          "output_type": "stream",
          "name": "stdout",
          "text": [
            "Using TensorFlow version 2.8.2\n"
          ]
        }
      ],
      "source": [
        "import tensorflow as tf\n",
        "print('Using TensorFlow version', tf.__version__)"
      ]
    },
    {
      "cell_type": "markdown",
      "metadata": {
        "id": "yU6i1szN3yJN"
      },
      "source": [
        "Part 2: Import MNIST Dataset from Tensorflow and Show the pictures\n"
      ]
    },
    {
      "cell_type": "code",
      "execution_count": 2,
      "metadata": {
        "colab": {
          "base_uri": "https://localhost:8080/",
          "height": 421
        },
        "id": "yOPq_Wr74p2k",
        "outputId": "55135e4b-d93f-4480-8b03-04606e3c747b"
      },
      "outputs": [
        {
          "output_type": "stream",
          "name": "stdout",
          "text": [
            "Downloading data from https://storage.googleapis.com/tensorflow/tf-keras-datasets/mnist.npz\n",
            "11493376/11490434 [==============================] - 0s 0us/step\n",
            "11501568/11490434 [==============================] - 0s 0us/step\n",
            "X_train_shape:  (60000, 28, 28)\n",
            "Y_train_shape:  (60000,)\n",
            "X_test_shape:  (10000, 28, 28)\n",
            "Y_test_shape:  (10000,)\n"
          ]
        },
        {
          "output_type": "display_data",
          "data": {
            "text/plain": [
              "<Figure size 432x288 with 1 Axes>"
            ],
            "image/png": "[encoded data removed]"
          },
          "metadata": {
            "needs_background": "light"
          }
        },
        {
          "output_type": "stream",
          "name": "stdout",
          "text": [
            "5\n",
            "{0, 1, 2, 3, 4, 5, 6, 7, 8, 9}\n"
          ]
        }
      ],
      "source": [
        "from tensorflow.keras.datasets import mnist\n",
        "from matplotlib import pyplot as plt\n",
        "(trainX, trainY), (testX, testY) = mnist.load_data()\n",
        "print('X_train_shape: ', trainX.shape)\n",
        "#Activity 4: Implement the rest of print statements here\n",
        "#Including trainY, testX, and testY\n",
        "print('Y_train_shape: ', trainY.shape)\n",
        "print('X_test_shape: ', testX.shape)\n",
        "print('Y_test_shape: ', testY.shape)\n",
        "\n",
        "\n",
        "\n",
        "#Show the first image of the training dataset\n",
        "plt.imshow(trainX[0], cmap='binary')\n",
        "plt.show()\n",
        "\n",
        "#Show the labels (Y data) for each image\n",
        "print(trainY[0])\n",
        "#Show the range of labels\n",
        "print(set(trainY))"
      ]
    },
    {
      "cell_type": "markdown",
      "metadata": {
        "id": "EE0gDzrIQvHu"
      },
      "source": [
        "Part 3: One-hot Encoding on Labels\n"
      ]
    },
    {
      "cell_type": "code",
      "execution_count": 3,
      "metadata": {
        "colab": {
          "base_uri": "https://localhost:8080/"
        },
        "id": "yqmldP4eHIS3",
        "outputId": "99c26a95-8334-45b2-8b7b-b5628e43cd4a"
      },
      "outputs": [
        {
          "output_type": "stream",
          "name": "stdout",
          "text": [
            "Y train encodedshape:  (60000, 10)\n",
            "Y test encodedshape:  (10000, 10)\n",
            "[0. 0. 0. 0. 0. 1. 0. 0. 0. 0.]\n"
          ]
        }
      ],
      "source": [
        "from tensorflow.keras.utils import to_categorical\n",
        "\n",
        "y_train_encoded = to_categorical(trainY)\n",
        "y_test_encoded = to_categorical(testY)\n",
        "\n",
        "# Activity 5: Print encoded shape for both trainY and testY\n",
        "\n",
        "#Own added below \n",
        "print('Y train encodedshape: ', y_train_encoded.shape)\n",
        "\n",
        "print('Y test encodedshape: ', y_test_encoded.shape)\n",
        "\n",
        "#Own added above\n",
        "\n",
        "\n",
        "#display one of the encoded label\n",
        "print(y_train_encoded[0])"
      ]
    },
    {
      "cell_type": "markdown",
      "metadata": {
        "id": "zWx9v0WbNKaK"
      },
      "source": [
        "Part 4: Pre-processing the Examples\n",
        "\n",
        "A: Reshape x values"
      ]
    },
    {
      "cell_type": "code",
      "execution_count": 5,
      "metadata": {
        "colab": {
          "base_uri": "https://localhost:8080/",
          "height": 404
        },
        "id": "duyLIeskVsVH",
        "outputId": "bbd3aa95-2d56-4bf5-f432-1897a466b80d"
      },
      "outputs": [
        {
          "output_type": "stream",
          "name": "stdout",
          "text": [
            "X_train_shape:  (60000, 28, 28)\n",
            "Y_train_shape:  (60000,)\n",
            "testX_shape:  (10000, 28, 28)\n",
            "testY_shape:  (10000,)\n"
          ]
        },
        {
          "output_type": "display_data",
          "data": {
            "text/plain": [
              "<Figure size 432x288 with 1 Axes>"
            ],
            "image/png": "[encoded data removed]"
          },
          "metadata": {
            "needs_background": "light"
          }
        },
        {
          "output_type": "stream",
          "name": "stdout",
          "text": [
            "5\n",
            "{0, 1, 2, 3, 4, 5, 6, 7, 8, 9}\n",
            "x_train_reshape_size:  (60000, 784)\n",
            "x_test_reshape_size:  (10000, 784)\n"
          ]
        }
      ],
      "source": [
        "import numpy as np\n",
        "\n",
        "#Acitity 6\n",
        "#Use np.reshape() function to reshape both the training set and the test set of x values\n",
        "print('X_train_shape: ', trainX.shape)\n",
        "print('Y_train_shape: ', trainY.shape)\n",
        "print('testX_shape: ', testX.shape)\n",
        "print('testY_shape: ', testY.shape)\n",
        "\n",
        "plt.imshow(trainX[0], cmap='binary')\n",
        "plt.show()\n",
        "\n",
        "\n",
        "print(trainY[0])\n",
        "print(set(trainY))\n",
        "\n",
        "#Own below: activity 6 is these 2 lines . we are flattening them so 1 dimension\n",
        "x_train_reshape = np.reshape(trainX, (60000, 784))\n",
        "x_test_reshape = np.reshape(testX, (10000, 784))\n",
        "#Own above: \n",
        "\n",
        "# Uncomment below if you finished the reshape .Then you print to look at it\n",
        "print(\"x_train_reshape_size: \", x_train_reshape.shape)\n",
        "print(\"x_test_reshape_size: \", x_test_reshape.shape)"
      ]
    },
    {
      "cell_type": "markdown",
      "metadata": {
        "id": "hHAwBjiNFFg9"
      },
      "source": [
        "B: Normalize the pixel values"
      ]
    },
    {
      "cell_type": "code",
      "execution_count": 15,
      "metadata": {
        "colab": {
          "base_uri": "https://localhost:8080/"
        },
        "id": "UrOU8Sm9ZWWb",
        "outputId": "14dc66a0-f910-48d6-c87c-2b309444bd62"
      },
      "outputs": [
        {
          "output_type": "stream",
          "name": "stdout",
          "text": [
            "{0, 1, 2, 3, 9, 11, 14, 16, 18, 23, 24, 25, 26, 27, 30, 35, 36, 39, 43, 45, 46, 49, 55, 56, 64, 66, 70, 78, 80, 81, 82, 90, 93, 94, 107, 108, 114, 119, 126, 127, 130, 132, 133, 135, 136, 139, 148, 150, 154, 156, 160, 166, 170, 171, 172, 175, 182, 183, 186, 187, 190, 195, 198, 201, 205, 207, 212, 213, 219, 221, 225, 226, 229, 238, 240, 241, 242, 244, 247, 249, 250, 251, 252, 253, 255}\n",
            "[-0.42407389 -0.42407389 -0.42407389 -0.42407389 -0.42407389 -0.42407389\n",
            " -0.42407389 -0.42407389 -0.42407389 -0.42407389 -0.42407389 -0.42407389\n",
            " -0.42407389 -0.42407389 -0.42407389 -0.42407389 -0.42407389 -0.42407389\n",
            " -0.42407389 -0.42407389 -0.42407389 -0.42407389 -0.42407389 -0.42407389\n",
            " -0.42407389 -0.42407389 -0.42407389 -0.42407389 -0.42407389 -0.42407389\n",
            " -0.42407389 -0.42407389 -0.42407389 -0.42407389 -0.42407389 -0.42407389\n",
            " -0.42407389 -0.42407389 -0.42407389 -0.42407389 -0.42407389 -0.42407389\n",
            " -0.42407389 -0.42407389 -0.42407389 -0.42407389 -0.42407389 -0.42407389\n",
            " -0.42407389 -0.42407389 -0.42407389 -0.42407389 -0.42407389 -0.42407389\n",
            " -0.42407389 -0.42407389 -0.42407389 -0.42407389 -0.42407389 -0.42407389\n",
            " -0.42407389 -0.42407389 -0.42407389 -0.42407389 -0.42407389 -0.42407389\n",
            " -0.42407389 -0.42407389 -0.42407389 -0.42407389 -0.42407389 -0.42407389\n",
            " -0.42407389 -0.42407389 -0.42407389 -0.42407389 -0.42407389 -0.42407389\n",
            " -0.42407389 -0.42407389 -0.42407389 -0.42407389 -0.42407389 -0.42407389\n",
            " -0.42407389 -0.42407389 -0.42407389 -0.42407389 -0.42407389 -0.42407389\n",
            " -0.42407389 -0.42407389 -0.42407389 -0.42407389 -0.42407389 -0.42407389\n",
            " -0.42407389 -0.42407389 -0.42407389 -0.42407389 -0.42407389 -0.42407389\n",
            " -0.42407389 -0.42407389 -0.42407389 -0.42407389 -0.42407389 -0.42407389\n",
            " -0.42407389 -0.42407389 -0.42407389 -0.42407389 -0.42407389 -0.42407389\n",
            " -0.42407389 -0.42407389 -0.42407389 -0.42407389 -0.42407389 -0.42407389\n",
            " -0.42407389 -0.42407389 -0.42407389 -0.42407389 -0.42407389 -0.42407389\n",
            " -0.42407389 -0.42407389 -0.42407389 -0.42407389 -0.42407389 -0.42407389\n",
            " -0.42407389 -0.42407389 -0.42407389 -0.42407389 -0.42407389 -0.42407389\n",
            " -0.42407389 -0.42407389 -0.42407389 -0.42407389 -0.42407389 -0.42407389\n",
            " -0.42407389 -0.42407389 -0.42407389 -0.42407389 -0.42407389 -0.42407389\n",
            " -0.42407389 -0.42407389 -0.38589016 -0.1949715  -0.1949715  -0.1949715\n",
            "  1.17964286  1.30692197  1.80331049 -0.09314822  1.68875929  2.82154335\n",
            "  2.71972006  1.19237077 -0.42407389 -0.42407389 -0.42407389 -0.42407389\n",
            " -0.42407389 -0.42407389 -0.42407389 -0.42407389 -0.42407389 -0.42407389\n",
            " -0.42407389 -0.42407389 -0.04223657  0.03413089  0.77234972  1.53602436\n",
            "  1.73967093  2.79608752  2.79608752  2.79608752  2.79608752  2.79608752\n",
            "  2.43970602  1.76512675  2.79608752  2.65608051  2.0578687   0.39051239\n",
            " -0.42407389 -0.42407389 -0.42407389 -0.42407389 -0.42407389 -0.42407389\n",
            " -0.42407389 -0.42407389 -0.42407389 -0.42407389 -0.42407389  0.19959373\n",
            "  2.60516886  2.79608752  2.79608752  2.79608752  2.79608752  2.79608752\n",
            "  2.79608752  2.79608752  2.79608752  2.7706317   0.7596218   0.61961479\n",
            "  0.61961479  0.28868911  0.07231462 -0.42407389 -0.42407389 -0.42407389\n",
            " -0.42407389 -0.42407389 -0.42407389 -0.42407389 -0.42407389 -0.42407389\n",
            " -0.42407389 -0.42407389 -0.42407389 -0.1949715   2.36333856  2.79608752\n",
            "  2.79608752  2.79608752  2.79608752  2.79608752  2.09605243  1.89240586\n",
            "  2.71972006  2.6433526  -0.42407389 -0.42407389 -0.42407389 -0.42407389\n",
            " -0.42407389 -0.42407389 -0.42407389 -0.42407389 -0.42407389 -0.42407389\n",
            " -0.42407389 -0.42407389 -0.42407389 -0.42407389 -0.42407389 -0.42407389\n",
            " -0.42407389 -0.42407389  0.59415897  1.56148018  0.93781256  2.79608752\n",
            "  2.79608752  2.18514781 -0.28406688 -0.42407389  0.12322627  1.53602436\n",
            " -0.42407389 -0.42407389 -0.42407389 -0.42407389 -0.42407389 -0.42407389\n",
            " -0.42407389 -0.42407389 -0.42407389 -0.42407389 -0.42407389 -0.42407389\n",
            " -0.42407389 -0.42407389 -0.42407389 -0.42407389 -0.42407389 -0.42407389\n",
            " -0.42407389 -0.24588314 -0.41134598  1.53602436  2.79608752  0.72143807\n",
            " -0.42407389 -0.42407389 -0.42407389 -0.42407389 -0.42407389 -0.42407389\n",
            " -0.42407389 -0.42407389 -0.42407389 -0.42407389 -0.42407389 -0.42407389\n",
            " -0.42407389 -0.42407389 -0.42407389 -0.42407389 -0.42407389 -0.42407389\n",
            " -0.42407389 -0.42407389 -0.42407389 -0.42407389 -0.42407389 -0.42407389\n",
            " -0.42407389  1.3451057   2.79608752  1.99422915 -0.39861807 -0.42407389\n",
            " -0.42407389 -0.42407389 -0.42407389 -0.42407389 -0.42407389 -0.42407389\n",
            " -0.42407389 -0.42407389 -0.42407389 -0.42407389 -0.42407389 -0.42407389\n",
            " -0.42407389 -0.42407389 -0.42407389 -0.42407389 -0.42407389 -0.42407389\n",
            " -0.42407389 -0.42407389 -0.42407389 -0.42407389 -0.42407389 -0.28406688\n",
            "  1.99422915  2.79608752  0.46687986 -0.42407389 -0.42407389 -0.42407389\n",
            " -0.42407389 -0.42407389 -0.42407389 -0.42407389 -0.42407389 -0.42407389\n",
            " -0.42407389 -0.42407389 -0.42407389 -0.42407389 -0.42407389 -0.42407389\n",
            " -0.42407389 -0.42407389 -0.42407389 -0.42407389 -0.42407389 -0.42407389\n",
            " -0.42407389 -0.42407389 -0.42407389 -0.42407389  0.02140298  2.6433526\n",
            "  2.43970602  1.61239182  0.95054047 -0.41134598 -0.42407389 -0.42407389\n",
            " -0.42407389 -0.42407389 -0.42407389 -0.42407389 -0.42407389 -0.42407389\n",
            " -0.42407389 -0.42407389 -0.42407389 -0.42407389 -0.42407389 -0.42407389\n",
            " -0.42407389 -0.42407389 -0.42407389 -0.42407389 -0.42407389 -0.42407389\n",
            " -0.42407389 -0.42407389 -0.42407389  0.60688688  2.63062468  2.79608752\n",
            "  2.79608752  1.09054748 -0.10587613 -0.42407389 -0.42407389 -0.42407389\n",
            " -0.42407389 -0.42407389 -0.42407389 -0.42407389 -0.42407389 -0.42407389\n",
            " -0.42407389 -0.42407389 -0.42407389 -0.42407389 -0.42407389 -0.42407389\n",
            " -0.42407389 -0.42407389 -0.42407389 -0.42407389 -0.42407389 -0.42407389\n",
            " -0.42407389 -0.42407389  0.14868209  1.9433175   2.79608752  2.79608752\n",
            "  1.48511272 -0.0804203  -0.42407389 -0.42407389 -0.42407389 -0.42407389\n",
            " -0.42407389 -0.42407389 -0.42407389 -0.42407389 -0.42407389 -0.42407389\n",
            " -0.42407389 -0.42407389 -0.42407389 -0.42407389 -0.42407389 -0.42407389\n",
            " -0.42407389 -0.42407389 -0.42407389 -0.42407389 -0.42407389 -0.42407389\n",
            " -0.42407389 -0.22042732  0.7596218   2.78335961  2.79608752  1.95604541\n",
            " -0.42407389 -0.42407389 -0.42407389 -0.42407389 -0.42407389 -0.42407389\n",
            " -0.42407389 -0.42407389 -0.42407389 -0.42407389 -0.42407389 -0.42407389\n",
            " -0.42407389 -0.42407389 -0.42407389 -0.42407389 -0.42407389 -0.42407389\n",
            " -0.42407389 -0.42407389 -0.42407389 -0.42407389 -0.42407389 -0.42407389\n",
            " -0.42407389  2.74517588  2.79608752  2.74517588  0.39051239 -0.42407389\n",
            " -0.42407389 -0.42407389 -0.42407389 -0.42407389 -0.42407389 -0.42407389\n",
            " -0.42407389 -0.42407389 -0.42407389 -0.42407389 -0.42407389 -0.42407389\n",
            " -0.42407389 -0.42407389 -0.42407389 -0.42407389 -0.42407389 -0.42407389\n",
            " -0.42407389 -0.42407389  0.16141     1.2305545   1.90513377  2.79608752\n",
            "  2.79608752  2.21060363 -0.39861807 -0.42407389 -0.42407389 -0.42407389\n",
            " -0.42407389 -0.42407389 -0.42407389 -0.42407389 -0.42407389 -0.42407389\n",
            " -0.42407389 -0.42407389 -0.42407389 -0.42407389 -0.42407389 -0.42407389\n",
            " -0.42407389 -0.42407389 -0.42407389 -0.42407389  0.07231462  1.4596569\n",
            "  2.49061767  2.79608752  2.79608752  2.79608752  2.75790379  1.89240586\n",
            " -0.42407389 -0.42407389 -0.42407389 -0.42407389 -0.42407389 -0.42407389\n",
            " -0.42407389 -0.42407389 -0.42407389 -0.42407389 -0.42407389 -0.42407389\n",
            " -0.42407389 -0.42407389 -0.42407389 -0.42407389 -0.42407389 -0.42407389\n",
            " -0.11860404  1.02690793  2.38879438  2.79608752  2.79608752  2.79608752\n",
            "  2.79608752  2.13423617  0.56870314 -0.42407389 -0.42407389 -0.42407389\n",
            " -0.42407389 -0.42407389 -0.42407389 -0.42407389 -0.42407389 -0.42407389\n",
            " -0.42407389 -0.42407389 -0.42407389 -0.42407389 -0.42407389 -0.42407389\n",
            " -0.42407389 -0.42407389 -0.13133195  0.41596821  2.28697109  2.79608752\n",
            "  2.79608752  2.79608752  2.79608752  2.09605243  0.60688688 -0.39861807\n",
            " -0.42407389 -0.42407389 -0.42407389 -0.42407389 -0.42407389 -0.42407389\n",
            " -0.42407389 -0.42407389 -0.42407389 -0.42407389 -0.42407389 -0.42407389\n",
            " -0.42407389 -0.42407389 -0.42407389 -0.42407389 -0.1949715   1.75239884\n",
            "  2.36333856  2.79608752  2.79608752  2.79608752  2.79608752  2.0578687\n",
            "  0.59415897 -0.3095227  -0.42407389 -0.42407389 -0.42407389 -0.42407389\n",
            " -0.42407389 -0.42407389 -0.42407389 -0.42407389 -0.42407389 -0.42407389\n",
            " -0.42407389 -0.42407389 -0.42407389 -0.42407389 -0.42407389 -0.42407389\n",
            "  0.2759612   1.76512675  2.45243393  2.79608752  2.79608752  2.79608752\n",
            "  2.79608752  2.68153633  1.26873823 -0.28406688 -0.42407389 -0.42407389\n",
            " -0.42407389 -0.42407389 -0.42407389 -0.42407389 -0.42407389 -0.42407389\n",
            " -0.42407389 -0.42407389 -0.42407389 -0.42407389 -0.42407389 -0.42407389\n",
            " -0.42407389 -0.42407389 -0.42407389 -0.42407389  1.30692197  2.79608752\n",
            "  2.79608752  2.79608752  2.27424318  1.29419406  1.25601032 -0.22042732\n",
            " -0.42407389 -0.42407389 -0.42407389 -0.42407389 -0.42407389 -0.42407389\n",
            " -0.42407389 -0.42407389 -0.42407389 -0.42407389 -0.42407389 -0.42407389\n",
            " -0.42407389 -0.42407389 -0.42407389 -0.42407389 -0.42407389 -0.42407389\n",
            " -0.42407389 -0.42407389 -0.42407389 -0.42407389 -0.42407389 -0.42407389\n",
            " -0.42407389 -0.42407389 -0.42407389 -0.42407389 -0.42407389 -0.42407389\n",
            " -0.42407389 -0.42407389 -0.42407389 -0.42407389 -0.42407389 -0.42407389\n",
            " -0.42407389 -0.42407389 -0.42407389 -0.42407389 -0.42407389 -0.42407389\n",
            " -0.42407389 -0.42407389 -0.42407389 -0.42407389 -0.42407389 -0.42407389\n",
            " -0.42407389 -0.42407389 -0.42407389 -0.42407389 -0.42407389 -0.42407389\n",
            " -0.42407389 -0.42407389 -0.42407389 -0.42407389 -0.42407389 -0.42407389\n",
            " -0.42407389 -0.42407389 -0.42407389 -0.42407389 -0.42407389 -0.42407389\n",
            " -0.42407389 -0.42407389 -0.42407389 -0.42407389 -0.42407389 -0.42407389\n",
            " -0.42407389 -0.42407389 -0.42407389 -0.42407389 -0.42407389 -0.42407389\n",
            " -0.42407389 -0.42407389 -0.42407389 -0.42407389 -0.42407389 -0.42407389\n",
            " -0.42407389 -0.42407389 -0.42407389 -0.42407389 -0.42407389 -0.42407389\n",
            " -0.42407389 -0.42407389 -0.42407389 -0.42407389 -0.42407389 -0.42407389\n",
            " -0.42407389 -0.42407389 -0.42407389 -0.42407389]\n",
            "[-0.42407389 -0.42407389 -0.42407389 -0.42407389 -0.42407389 -0.42407389\n",
            " -0.42407389 -0.42407389 -0.42407389 -0.42407389 -0.42407389 -0.42407389\n",
            " -0.42407389 -0.42407389 -0.42407389 -0.42407389 -0.42407389 -0.42407389\n",
            " -0.42407389 -0.42407389 -0.42407389 -0.42407389 -0.42407389 -0.42407389\n",
            " -0.42407389 -0.42407389 -0.42407389 -0.42407389 -0.42407389 -0.42407389\n",
            " -0.42407389 -0.42407389 -0.42407389 -0.42407389 -0.42407389 -0.42407389\n",
            " -0.42407389 -0.42407389 -0.42407389 -0.42407389 -0.42407389 -0.42407389\n",
            " -0.42407389 -0.42407389 -0.42407389 -0.42407389 -0.42407389 -0.42407389\n",
            " -0.42407389 -0.42407389 -0.42407389 -0.42407389 -0.42407389 -0.42407389\n",
            " -0.42407389 -0.42407389 -0.42407389 -0.42407389 -0.42407389 -0.42407389\n",
            " -0.42407389 -0.42407389 -0.42407389 -0.42407389 -0.42407389 -0.42407389\n",
            " -0.42407389 -0.42407389 -0.42407389 -0.42407389 -0.42407389 -0.42407389\n",
            " -0.42407389 -0.42407389 -0.42407389 -0.42407389 -0.42407389 -0.42407389\n",
            " -0.42407389 -0.42407389 -0.42407389 -0.42407389 -0.42407389 -0.42407389\n",
            " -0.42407389 -0.42407389 -0.42407389 -0.42407389 -0.42407389 -0.42407389\n",
            " -0.42407389 -0.42407389 -0.42407389 -0.42407389 -0.42407389 -0.42407389\n",
            " -0.42407389 -0.42407389 -0.42407389 -0.42407389 -0.42407389 -0.42407389\n",
            " -0.42407389 -0.42407389 -0.42407389 -0.42407389 -0.42407389 -0.42407389\n",
            " -0.42407389 -0.42407389 -0.42407389 -0.42407389 -0.42407389 -0.42407389\n",
            " -0.42407389 -0.42407389 -0.42407389 -0.42407389 -0.42407389 -0.42407389\n",
            " -0.42407389 -0.42407389 -0.42407389 -0.42407389 -0.42407389 -0.42407389\n",
            " -0.42407389 -0.42407389 -0.42407389 -0.42407389 -0.42407389 -0.42407389\n",
            " -0.42407389 -0.42407389 -0.42407389 -0.42407389 -0.42407389 -0.42407389\n",
            " -0.42407389 -0.42407389 -0.42407389 -0.42407389 -0.42407389 -0.42407389\n",
            " -0.42407389 -0.42407389 -0.42407389 -0.42407389 -0.42407389 -0.42407389\n",
            " -0.42407389 -0.42407389 -0.42407389 -0.42407389 -0.42407389 -0.42407389\n",
            " -0.42407389 -0.42407389 -0.42407389 -0.42407389 -0.42407389 -0.42407389\n",
            " -0.42407389 -0.42407389 -0.42407389 -0.42407389 -0.42407389 -0.42407389\n",
            " -0.42407389 -0.42407389 -0.42407389 -0.42407389 -0.42407389 -0.42407389\n",
            " -0.42407389 -0.42407389 -0.42407389 -0.42407389 -0.42407389 -0.42407389\n",
            " -0.42407389 -0.42407389 -0.42407389 -0.42407389 -0.42407389 -0.42407389\n",
            " -0.42407389 -0.42407389 -0.42407389 -0.42407389 -0.42407389 -0.42407389\n",
            " -0.42407389 -0.42407389 -0.42407389 -0.42407389 -0.42407389 -0.42407389\n",
            " -0.42407389 -0.42407389 -0.42407389 -0.42407389  0.64507061  1.93058959\n",
            "  1.59966391  1.49784063  0.33960075  0.03413089 -0.42407389 -0.42407389\n",
            " -0.42407389 -0.42407389 -0.42407389 -0.42407389 -0.42407389 -0.42407389\n",
            " -0.42407389 -0.42407389 -0.42407389 -0.42407389 -0.42407389 -0.42407389\n",
            " -0.42407389 -0.42407389 -0.42407389 -0.42407389 -0.42407389 -0.42407389\n",
            " -0.42407389 -0.42407389  2.40152229  2.80881543  2.80881543  2.80881543\n",
            "  2.80881543  2.6433526   2.09605243  2.09605243  2.09605243  2.09605243\n",
            "  2.09605243  2.09605243  2.09605243  2.09605243  1.73967093  0.23777746\n",
            " -0.42407389 -0.42407389 -0.42407389 -0.42407389 -0.42407389 -0.42407389\n",
            " -0.42407389 -0.42407389 -0.42407389 -0.42407389 -0.42407389 -0.42407389\n",
            "  0.42869613  1.02690793  0.49233568  1.02690793  1.65057556  2.46516184\n",
            "  2.80881543  2.43970602  2.80881543  2.80881543  2.80881543  2.75790379\n",
            "  2.49061767  2.80881543  2.80881543  1.35783361 -0.42407389 -0.42407389\n",
            " -0.42407389 -0.42407389 -0.42407389 -0.42407389 -0.42407389 -0.42407389\n",
            " -0.42407389 -0.42407389 -0.42407389 -0.42407389 -0.42407389 -0.42407389\n",
            " -0.42407389 -0.42407389 -0.42407389 -0.20769941  0.41596821 -0.24588314\n",
            "  0.42869613  0.42869613  0.42869613  0.32687284 -0.15678777  2.57971304\n",
            "  2.80881543  0.92508464 -0.42407389 -0.42407389 -0.42407389 -0.42407389\n",
            " -0.42407389 -0.42407389 -0.42407389 -0.42407389 -0.42407389 -0.42407389\n",
            " -0.42407389 -0.42407389 -0.42407389 -0.42407389 -0.42407389 -0.42407389\n",
            " -0.42407389 -0.42407389 -0.42407389 -0.42407389 -0.42407389 -0.42407389\n",
            " -0.42407389 -0.42407389  0.6323427   2.79608752  2.23605945 -0.1949715\n",
            " -0.42407389 -0.42407389 -0.42407389 -0.42407389 -0.42407389 -0.42407389\n",
            " -0.42407389 -0.42407389 -0.42407389 -0.42407389 -0.42407389 -0.42407389\n",
            " -0.42407389 -0.42407389 -0.42407389 -0.42407389 -0.42407389 -0.42407389\n",
            " -0.42407389 -0.42407389 -0.42407389 -0.42407389 -0.42407389 -0.14405986\n",
            "  2.54152931  2.82154335  0.6323427  -0.42407389 -0.42407389 -0.42407389\n",
            " -0.42407389 -0.42407389 -0.42407389 -0.42407389 -0.42407389 -0.42407389\n",
            " -0.42407389 -0.42407389 -0.42407389 -0.42407389 -0.42407389 -0.42407389\n",
            " -0.42407389 -0.42407389 -0.42407389 -0.42407389 -0.42407389 -0.42407389\n",
            " -0.42407389 -0.42407389 -0.42407389  1.21782659  2.80881543  2.60516886\n",
            "  0.13595418 -0.42407389 -0.42407389 -0.42407389 -0.42407389 -0.42407389\n",
            " -0.42407389 -0.42407389 -0.42407389 -0.42407389 -0.42407389 -0.42407389\n",
            " -0.42407389 -0.42407389 -0.42407389 -0.42407389 -0.42407389 -0.42407389\n",
            " -0.42407389 -0.42407389 -0.42407389 -0.42407389 -0.42407389 -0.42407389\n",
            "  0.32687284  2.74517588  2.80881543  0.36505657 -0.42407389 -0.42407389\n",
            " -0.42407389 -0.42407389 -0.42407389 -0.42407389 -0.42407389 -0.42407389\n",
            " -0.42407389 -0.42407389 -0.42407389 -0.42407389 -0.42407389 -0.42407389\n",
            " -0.42407389 -0.42407389 -0.42407389 -0.42407389 -0.42407389 -0.42407389\n",
            " -0.42407389 -0.42407389 -0.42407389 -0.42407389  1.26873823  2.80881543\n",
            "  1.95604541 -0.36043434 -0.42407389 -0.42407389 -0.42407389 -0.42407389\n",
            " -0.42407389 -0.42407389 -0.42407389 -0.42407389 -0.42407389 -0.42407389\n",
            " -0.42407389 -0.42407389 -0.42407389 -0.42407389 -0.42407389 -0.42407389\n",
            " -0.42407389 -0.42407389 -0.42407389 -0.42407389 -0.42407389 -0.42407389\n",
            " -0.42407389 -0.3095227   2.18514781  2.73244797  0.31414493 -0.42407389\n",
            " -0.42407389 -0.42407389 -0.42407389 -0.42407389 -0.42407389 -0.42407389\n",
            " -0.42407389 -0.42407389 -0.42407389 -0.42407389 -0.42407389 -0.42407389\n",
            " -0.42407389 -0.42407389 -0.42407389 -0.42407389 -0.42407389 -0.42407389\n",
            " -0.42407389 -0.42407389 -0.42407389 -0.42407389 -0.42407389  1.17964286\n",
            "  2.80881543  1.89240586 -0.42407389 -0.42407389 -0.42407389 -0.42407389\n",
            " -0.42407389 -0.42407389 -0.42407389 -0.42407389 -0.42407389 -0.42407389\n",
            " -0.42407389 -0.42407389 -0.42407389 -0.42407389 -0.42407389 -0.42407389\n",
            " -0.42407389 -0.42407389 -0.42407389 -0.42407389 -0.42407389 -0.42407389\n",
            " -0.42407389 -0.42407389  0.53051941  2.7706317   2.63062468  0.30141702\n",
            " -0.42407389 -0.42407389 -0.42407389 -0.42407389 -0.42407389 -0.42407389\n",
            " -0.42407389 -0.42407389 -0.42407389 -0.42407389 -0.42407389 -0.42407389\n",
            " -0.42407389 -0.42407389 -0.42407389 -0.42407389 -0.42407389 -0.42407389\n",
            " -0.42407389 -0.42407389 -0.42407389 -0.42407389 -0.42407389 -0.18224359\n",
            "  2.38879438  2.80881543  1.68875929 -0.42407389 -0.42407389 -0.42407389\n",
            " -0.42407389 -0.42407389 -0.42407389 -0.42407389 -0.42407389 -0.42407389\n",
            " -0.42407389 -0.42407389 -0.42407389 -0.42407389 -0.42407389 -0.42407389\n",
            " -0.42407389 -0.42407389 -0.42407389 -0.42407389 -0.42407389 -0.42407389\n",
            " -0.42407389 -0.42407389 -0.38589016  2.15969199  2.80881543  2.36333856\n",
            "  0.02140298 -0.42407389 -0.42407389 -0.42407389 -0.42407389 -0.42407389\n",
            " -0.42407389 -0.42407389 -0.42407389 -0.42407389 -0.42407389 -0.42407389\n",
            " -0.42407389 -0.42407389 -0.42407389 -0.42407389 -0.42407389 -0.42407389\n",
            " -0.42407389 -0.42407389 -0.42407389 -0.42407389 -0.42407389 -0.42407389\n",
            "  0.05958671  2.80881543  2.80881543  0.55597523 -0.42407389 -0.42407389\n",
            " -0.42407389 -0.42407389 -0.42407389 -0.42407389 -0.42407389 -0.42407389\n",
            " -0.42407389 -0.42407389 -0.42407389 -0.42407389 -0.42407389 -0.42407389\n",
            " -0.42407389 -0.42407389 -0.42407389 -0.42407389 -0.42407389 -0.42407389\n",
            " -0.42407389 -0.42407389 -0.42407389 -0.02950866  2.42697811  2.80881543\n",
            "  1.03963584 -0.41134598 -0.42407389 -0.42407389 -0.42407389 -0.42407389\n",
            " -0.42407389 -0.42407389 -0.42407389 -0.42407389 -0.42407389 -0.42407389\n",
            " -0.42407389 -0.42407389 -0.42407389 -0.42407389 -0.42407389 -0.42407389\n",
            " -0.42407389 -0.42407389 -0.42407389 -0.42407389 -0.42407389 -0.42407389\n",
            " -0.42407389  1.26873823  2.80881543  2.80881543  0.23777746 -0.42407389\n",
            " -0.42407389 -0.42407389 -0.42407389 -0.42407389 -0.42407389 -0.42407389\n",
            " -0.42407389 -0.42407389 -0.42407389 -0.42407389 -0.42407389 -0.42407389\n",
            " -0.42407389 -0.42407389 -0.42407389 -0.42407389 -0.42407389 -0.42407389\n",
            " -0.42407389 -0.42407389 -0.42407389 -0.42407389  0.35232866  2.65608051\n",
            "  2.80881543  2.80881543  0.23777746 -0.42407389 -0.42407389 -0.42407389\n",
            " -0.42407389 -0.42407389 -0.42407389 -0.42407389 -0.42407389 -0.42407389\n",
            " -0.42407389 -0.42407389 -0.42407389 -0.42407389 -0.42407389 -0.42407389\n",
            " -0.42407389 -0.42407389 -0.42407389 -0.42407389 -0.42407389 -0.42407389\n",
            " -0.42407389 -0.42407389  1.11600331  2.80881543  2.80881543  2.36333856\n",
            "  0.08504254 -0.42407389 -0.42407389 -0.42407389 -0.42407389 -0.42407389\n",
            " -0.42407389 -0.42407389 -0.42407389 -0.42407389 -0.42407389 -0.42407389\n",
            " -0.42407389 -0.42407389 -0.42407389 -0.42407389 -0.42407389 -0.42407389\n",
            " -0.42407389 -0.42407389 -0.42407389 -0.42407389 -0.42407389 -0.42407389\n",
            "  1.11600331  2.80881543  2.21060363 -0.1949715  -0.42407389 -0.42407389\n",
            " -0.42407389 -0.42407389 -0.42407389 -0.42407389 -0.42407389 -0.42407389\n",
            " -0.42407389 -0.42407389 -0.42407389 -0.42407389 -0.42407389 -0.42407389\n",
            " -0.42407389 -0.42407389 -0.42407389 -0.42407389 -0.42407389 -0.42407389\n",
            " -0.42407389 -0.42407389 -0.42407389 -0.42407389 -0.42407389 -0.42407389\n",
            " -0.42407389 -0.42407389 -0.42407389 -0.42407389 -0.42407389 -0.42407389\n",
            " -0.42407389 -0.42407389 -0.42407389 -0.42407389 -0.42407389 -0.42407389\n",
            " -0.42407389 -0.42407389 -0.42407389 -0.42407389]\n"
          ]
        }
      ],
      "source": [
        "# Print one of the data to see how the pixel values range\n",
        "print(set(x_train_reshape[0]))\n",
        "\n",
        "\n",
        "x_mean = np.mean(x_train_reshape)\n",
        "x_std = np.std(x_train_reshape)\n",
        "\n",
        "epsilon = 1e-10\n",
        "x_train_norm = (x_train_reshape - x_mean) / (x_std + epsilon)\n",
        "x_test_norm = (x_test_reshape - x_mean) / (x_std + epsilon)\n",
        "\n",
        "print(x_train_norm[0])\n",
        "print(x_test_norm[0])"
      ]
    },
    {
      "cell_type": "markdown",
      "metadata": {
        "id": "pp-wFGP5I7XO"
      },
      "source": [
        "Part 5: Create the Model"
      ]
    },
    {
      "cell_type": "code",
      "execution_count": 11,
      "metadata": {
        "id": "3MCNu7DBIJNu"
      },
      "outputs": [],
      "source": [
        "from tensorflow.keras import Sequential\n",
        "from tensorflow.keras.layers import Dense\n",
        "\n",
        "#Below two Dense lines are for hidden layer\n",
        "model = Sequential([\n",
        "  Dense(128, activation='relu', input_shape =(784,)),\n",
        "  Dense(128, activation='relu'),\n",
        "  \n",
        "  #Activity 8\n",
        "  #Write the output layer below, be sure to use softmax as the activation function\n",
        "\n",
        "  #Own there is 1 layer for the outer layer and don't need to specify input_shape is 784 cuz output from hidden layer is input for outer layer. \n",
        "  #Also, don't need to type model = Sequential ([ again since we already built model for hidden layer previously\n",
        "  Dense(10, activation='softmax')\n",
        "  #Dense(10, activation='softmax', input_shape =(784,)),\n",
        "  #Dense(10, activation='softmax'),\n",
        "\n",
        "  \n",
        "])"
      ]
    },
    {
      "cell_type": "markdown",
      "metadata": {
        "id": "uX7-xheCXwi1"
      },
      "source": [
        "Part 6: Compile the Model"
      ]
    },
    {
      "cell_type": "code",
      "execution_count": 12,
      "metadata": {
        "id": "iPrszwrXM-k9",
        "colab": {
          "base_uri": "https://localhost:8080/"
        },
        "outputId": "c77bbe64-741c-48bd-9013-10463ec663e7"
      },
      "outputs": [
        {
          "output_type": "stream",
          "name": "stdout",
          "text": [
            "Model: \"sequential_2\"\n",
            "_________________________________________________________________\n",
            " Layer (type)                Output Shape              Param #   \n",
            "=================================================================\n",
            " dense_6 (Dense)             (None, 128)               100480    \n",
            "                                                                 \n",
            " dense_7 (Dense)             (None, 128)               16512     \n",
            "                                                                 \n",
            " dense_8 (Dense)             (None, 10)                1290      \n",
            "                                                                 \n",
            "=================================================================\n",
            "Total params: 118,282\n",
            "Trainable params: 118,282\n",
            "Non-trainable params: 0\n",
            "_________________________________________________________________\n"
          ]
        }
      ],
      "source": [
        "model.compile(\n",
        "    optimizer = 'adam',\n",
        "    loss = 'categorical_crossentropy',\n",
        "    metrics = ['accuracy']\n",
        ")\n",
        "model.summary()"
      ]
    },
    {
      "cell_type": "code",
      "execution_count": 16,
      "metadata": {
        "id": "BVMB133dWo97",
        "colab": {
          "base_uri": "https://localhost:8080/"
        },
        "outputId": "0409d695-a795-43e0-86a6-cef05a7bbf22"
      },
      "outputs": [
        {
          "output_type": "stream",
          "name": "stdout",
          "text": [
            "Epoch 1/3\n",
            "1875/1875 [==============================] - 5s 2ms/step - loss: 0.2142 - accuracy: 0.9348\n",
            "Epoch 2/3\n",
            "1875/1875 [==============================] - 4s 2ms/step - loss: 0.1015 - accuracy: 0.9680\n",
            "Epoch 3/3\n",
            "1875/1875 [==============================] - 5s 3ms/step - loss: 0.0724 - accuracy: 0.9763\n"
          ]
        },
        {
          "output_type": "execute_result",
          "data": {
            "text/plain": [
              "<keras.callbacks.History at 0x7f188b531b10>"
            ]
          },
          "metadata": {},
          "execution_count": 16
        }
      ],
      "source": [
        "model.fit(x_train_norm, y_train_encoded, epochs=3)"
      ]
    },
    {
      "cell_type": "markdown",
      "metadata": {
        "id": "WHW9RnF0mgNH"
      },
      "source": [
        "Part 7: Save the Model"
      ]
    },
    {
      "cell_type": "code",
      "execution_count": 17,
      "metadata": {
        "id": "FuZSecllml0l",
        "colab": {
          "base_uri": "https://localhost:8080/"
        },
        "outputId": "350d46b6-8403-4754-c46d-73229b35dd41"
      },
      "outputs": [
        {
          "output_type": "stream",
          "name": "stdout",
          "text": [
            "INFO:tensorflow:Assets written to: numRecognition.model/assets\n"
          ]
        },
        {
          "output_type": "stream",
          "name": "stderr",
          "text": [
            "INFO:tensorflow:Assets written to: numRecognition.model/assets\n"
          ]
        }
      ],
      "source": [
        "# saving the model\n",
        "model.save(\"numRecognition.model\")"
      ]
    },
    {
      "cell_type": "code",
      "execution_count": 19,
      "metadata": {
        "id": "g6oOGVHmm0z7"
      },
      "outputs": [],
      "source": [
        "# load model\n",
        "myModel = tf.keras.models.load_model('numRecognition.model')"
      ]
    },
    {
      "cell_type": "markdown",
      "metadata": {
        "id": "CWodQMQPnAZv"
      },
      "source": [
        "Part 8: Preprocessing your own images"
      ]
    },
    {
      "cell_type": "code",
      "execution_count": 21,
      "metadata": {
        "id": "p7FCNeG9nBGA"
      },
      "outputs": [],
      "source": [
        "# importing libaries\n",
        "import cv2\n",
        "import matplotlib.pyplot as plt"
      ]
    },
    {
      "cell_type": "code",
      "execution_count": 22,
      "metadata": {
        "id": "7ku-dUwMnKrK",
        "colab": {
          "base_uri": "https://localhost:8080/",
          "height": 286
        },
        "outputId": "dce3f4a3-5414-4cd2-bbb7-62cb28496581"
      },
      "outputs": [
        {
          "output_type": "execute_result",
          "data": {
            "text/plain": [
              "<matplotlib.image.AxesImage at 0x7f18899ad6d0>"
            ]
          },
          "metadata": {},
          "execution_count": 22
        },
        {
          "output_type": "display_data",
          "data": {
            "text/plain": [
              "<Figure size 432x288 with 1 Axes>"
            ],
            "image/png": "[encoded data removed]"
          },
          "metadata": {
            "needs_background": "light"
          }
        }
      ],
      "source": [
        "# Activity 10: load my own image\n",
        "imageOrginal = cv2.imread('8_image.jpg', cv2.IMREAD_GRAYSCALE) # read image: FILL THIS IN\n",
        "\n",
        "# preview image\n",
        "plt.imshow(imageOrginal, cmap = 'gray') # show image without pesudocolor"
      ]
    },
    {
      "cell_type": "code",
      "execution_count": 23,
      "metadata": {
        "id": "jRJHcLyWnba7",
        "colab": {
          "base_uri": "https://localhost:8080/",
          "height": 282
        },
        "outputId": "3b735a8c-2533-4a11-b595-503da428d2d0"
      },
      "outputs": [
        {
          "output_type": "execute_result",
          "data": {
            "text/plain": [
              "<matplotlib.image.AxesImage at 0x7f188b17ee10>"
            ]
          },
          "metadata": {},
          "execution_count": 23
        },
        {
          "output_type": "display_data",
          "data": {
            "text/plain": [
              "<Figure size 432x288 with 1 Axes>"
            ],
            "image/png": "[encoded data removed]"
          },
          "metadata": {
            "needs_background": "light"
          }
        }
      ],
      "source": [
        "# Activity 11: format image\n",
        "imageResized = cv2.resize(imageOrginal, (40, 40), interpolation = cv2.INTER_LINEAR) # resize image to 28-by-28, fill in the dashes\n",
        "imageInvert = cv2.bitwise_not(imageResized) # invert the colors, fill in the dashes\n",
        "imagePadded = cv2.copyMakeBorder(imageInvert, 4, 4, 4, 4, borderType = cv2.BORDER_CONSTANT) # fill in the dashes\n",
        "imageCropped = imagePadded[8:36, 8:36] # cropping the image\n",
        "finalImage = imageCropped\n",
        "\n",
        "# preview image\n",
        "plt.imshow(finalImage, cmap = 'gray') # shows image without pesudocolor"
      ]
    },
    {
      "cell_type": "code",
      "execution_count": 24,
      "metadata": {
        "id": "fEYdk0UZn-Dr",
        "colab": {
          "base_uri": "https://localhost:8080/"
        },
        "outputId": "fa414f49-d75e-4495-dfeb-047388d29635"
      },
      "outputs": [
        {
          "output_type": "stream",
          "name": "stdout",
          "text": [
            "Prediction made\n"
          ]
        }
      ],
      "source": [
        "# making predictions\n",
        "predictions = myModel.predict(finalImage.reshape(1, 784), batch_size = 1) # note predict() takes a list\n",
        "print(\"Prediction made\")"
      ]
    },
    {
      "cell_type": "code",
      "execution_count": 25,
      "metadata": {
        "id": "zyJN7Lhan-jM",
        "colab": {
          "base_uri": "https://localhost:8080/"
        },
        "outputId": "7d9d4691-14c4-4343-bb95-43a32a5cc01f"
      },
      "outputs": [
        {
          "output_type": "stream",
          "name": "stdout",
          "text": [
            "3\n"
          ]
        }
      ],
      "source": [
        "# reading the predictions (orginally in form of probability distribution)\n",
        "print(np.argmax(predictions)) # print the prediction"
      ]
    }
  ],
  "metadata": {
    "colab": {
      "collapsed_sections": [],
      "name": "ML Workshop MNIST Student Ver.ipynb",
      "provenance": []
    },
    "kernelspec": {
      "display_name": "Python 3",
      "name": "python3"
    },
    "language_info": {
      "name": "python"
    }
  },
  "nbformat": 4,
  "nbformat_minor": 0
}